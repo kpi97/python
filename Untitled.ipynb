{
 "cells": [
  {
   "cell_type": "code",
   "execution_count": 4,
   "metadata": {
    "collapsed": true
   },
   "outputs": [],
   "source": []
  },
  {
   "cell_type": "code",
   "execution_count": 25,
   "metadata": {
    "collapsed": true
   },
   "outputs": [],
   "source": [
    "import numpy as np\n",
    "import statsmodels\n",
    "from scipy import stats"
   ]
  },
  {
   "cell_type": "code",
   "execution_count": 4,
   "metadata": {},
   "outputs": [
    {
     "name": "stdout",
     "output_type": "stream",
     "text": [
      "Populating the interactive namespace from numpy and matplotlib\n"
     ]
    }
   ],
   "source": [
    "%pylab inline"
   ]
  },
  {
   "cell_type": "code",
   "execution_count": 5,
   "metadata": {
    "collapsed": true
   },
   "outputs": [],
   "source": [
    "from statsmodels.stats.weightstats import _zconfint_generic, _tconfint_generic"
   ]
  },
  {
   "cell_type": "code",
   "execution_count": 6,
   "metadata": {},
   "outputs": [
    {
     "data": {
      "text/plain": [
       "<ufunc 'sqrt'>"
      ]
     },
     "execution_count": 6,
     "metadata": {},
     "output_type": "execute_result"
    }
   ],
   "source": [
    "np.sqrt"
   ]
  },
  {
   "cell_type": "code",
   "execution_count": 7,
   "metadata": {
    "collapsed": true
   },
   "outputs": [],
   "source": [
    "series_lp_learn = np.array([ \n",
    "    98 , 100, 105, 111, 120, 103, 119, 108, 110, 111, 104, 112, 103, 116, 112, 107, 100, 112, 108, 110, 120, 112, 114, 108, 97 , 107, 109, 100, 118, 112, 102, 101, 115, 109, 110, 102, 110, 113, 112, 105, 108, 117, 121, 116, 116, 106, 112, 113, 105, 110, 102, 106, 114, 113, 111, 105, 109, 109, 109, 113, 118, 111, 103, 110, 117, 94 , 101, 106, 109, 110, 112, 104, 95 , 119, 113, 106, 105, 100, 111, 106, 100, 114, 123, 108, 105, 107, 122, 108, 110, 108, 120, 118, 110, 110, 110, 114, 101, 109, 113, 113,\n",
    " ])\n",
    "\n",
    "series_lp_learn_not = np.array([\n",
    "    125, 134, 122, 120, 110, 127, 120, 114, 119, 120, 123, 123, 109, 119, 115, 115, 128, 128, 124, 117, 120, 123, 122, 132, 113, 125, 124, 121, 118, 127, 115, 120, 120, 123, 118, 110, 124, 129, 119, 124, 122, 118, 118, 128, 127, 126, 121, 130, 115, 121, 117, 120, 129, 122, 128, 109, 123, 123, 132, 114, 124, 116, 119, 126, 121, 124, 120, 119, 119, 130, 124, 109, 130, 126, 115, 124, 122, 116, 121, 120, 132, 124, 123, 114, 118, 126, 121, 126, 117, 127, 117, 119, 126, 119, 128, 116, 119, 132, 125, 113,\n",
    "\n",
    "])\n",
    "\n",
    "series_random = np.array([\n",
    "    143, 144, 143, 142, 142, 142, 142, 142, 143, 144, 143, 143, 144, 142, 143, 142, 141, 145, 145, 143, 144, 143, 143, 142, 142, 143, 145, 143, 143, 142, 144, 143, 141, 143, 142, 142, 140, 141, 144, 144, 143, 143, 144, 141, 143, 139, 143, 145, 143, 142, 142, 144, 144, 143, 144, 144, 143, 143, 144, 144, 141, 143, 145, 144, 142, 142, 145, 141, 140, 143, 143, 142, 141, 143, 144, 143, 144, 142, 143, 142, 143, 142, 142, 142, 143, 142, 143, 142, 143, 142, 144, 144, 142, 143, 140, 142, 141, 142, 143, 142\n",
    "])\n"
   ]
  },
  {
   "cell_type": "code",
   "execution_count": 14,
   "metadata": {
    "collapsed": true
   },
   "outputs": [],
   "source": [
    "u31 = np.array([(1.0 - series_lp_learn[i] / series_random[i])*100.0 for i in range(0, len(series_lp_learn))])\n",
    "u21 = np.array([(1.0 - series_lp_learn_not[i] / series_random[i])*100.0 for i in range(0, len(series_lp_learn))])\n",
    "effect_series_not2 = np.array([(1.0 - series_lp_learn[i] / series_lp_learn_not[i])*100.0 for i in range(0, len(series_lp_learn))])"
   ]
  },
  {
   "cell_type": "code",
   "execution_count": 15,
   "metadata": {
    "collapsed": true
   },
   "outputs": [],
   "source": [
    "ustd = lambda u: u.std(ddof=1)/np.sqrt(len(u))\n",
    "tconfit = tconfint_generic(u21.mean(), ustd(u21), len(u21) - 1, 0.05, 'two-sided'))"
   ]
  },
  {
   "cell_type": "markdown",
   "metadata": {},
   "source": [
    "Разрмер эффекта по выборке - процент уменьшения количества запросов при применении LP-вывода\n",
    "Оценка размера эффекта по выборке - случайная величина\n",
    "\n",
    "t-интервал\n",
    "Вместо гипотетической теоретической дисперсии $\\sigma^2$, которую мы на самом деле в данном случае не знаем, используем выборочные дисперсии, и построим доверительные интервалы вида $$\\bar{X}_n \\pm t_{1-\\frac{\\alpha}{2}} \\frac{S}{\\sqrt{n}}$$\n",
    "\n",
    "\n",
    "\n",
    "Нулевая гипотеза: \n",
    "H_0 : "
   ]
  },
  {
   "cell_type": "code",
   "execution_count": 32,
   "metadata": {
    "collapsed": true
   },
   "outputs": [],
   "source": []
  },
  {
   "cell_type": "code",
   "execution_count": 16,
   "metadata": {},
   "outputs": [
    {
     "name": "stdout",
     "output_type": "stream",
     "text": [
      "u21 95%% confidence interval (14.081189379759744, 15.666416974660043)\n"
     ]
    }
   ],
   "source": [
    "print(\"u21 95%% confidence interval\", _tconfint_generic(u21.mean(), ustd(u21), len(u21) - 1, 0.05, 'two-sided'))"
   ]
  },
  {
   "cell_type": "code",
   "execution_count": 23,
   "metadata": {},
   "outputs": [
    {
     "data": {
      "text/plain": [
       "(0.9877889156341553, 0.4927752912044525)"
      ]
     },
     "execution_count": 23,
     "metadata": {},
     "output_type": "execute_result"
    }
   ],
   "source": [
    "statsmodels.stats.weightstats.stats.shapiro(u21)"
   ]
  },
  {
   "cell_type": "code",
   "execution_count": 28,
   "metadata": {},
   "outputs": [
    {
     "data": {
      "text/plain": [
       "KstestResult(statistic=1.0, pvalue=0.0)"
      ]
     },
     "execution_count": 28,
     "metadata": {},
     "output_type": "execute_result"
    }
   ],
   "source": [
    "stats.kstest(u31,'norm')"
   ]
  },
  {
   "cell_type": "code",
   "execution_count": 17,
   "metadata": {},
   "outputs": [
    {
     "name": "stdout",
     "output_type": "stream",
     "text": [
      "u31 95%% confidence interval (22.547980704095117, 24.247412153025216)\n"
     ]
    }
   ],
   "source": [
    "print(\"u31 95%% confidence interval\", _tconfint_generic(u31.mean(), ustd(u31), len(u31) - 1, 0.05, 'two-sided'))"
   ]
  },
  {
   "cell_type": "code",
   "execution_count": null,
   "metadata": {
    "collapsed": true
   },
   "outputs": [],
   "source": [
    "stats.shapiro(u21)"
   ]
  },
  {
   "cell_type": "code",
   "execution_count": 47,
   "metadata": {},
   "outputs": [
    {
     "name": "stdout",
     "output_type": "stream",
     "text": [
      "effect_series_mean 95%% confidence interval (14.081189379759744, 15.666416974660043)\n"
     ]
    }
   ],
   "source": [
    "print(\"effect_series_mean 95%% confidence interval\", _tconfint_generic(effect_series_not1_mean, effect_series_not1_std,\n",
    "                                                                       len(effect_series_not1) - 1,\n",
    "                                                                       0.05, 'two-sided'))"
   ]
  },
  {
   "cell_type": "code",
   "execution_count": 48,
   "metadata": {},
   "outputs": [
    {
     "name": "stdout",
     "output_type": "stream",
     "text": [
      "effect_series_mean 95%% confidence interval (8.5208150208476336, 11.115124049220677)\n"
     ]
    }
   ],
   "source": [
    "print(\"effect_series_mean 95%% confidence interval\", _tconfint_generic(effect_series_not2_mean, effect_series_not2_std,\n",
    "                                                                       len(effect_series_not2) - 1,\n",
    "                                                                       0.05, 'two-sided'))"
   ]
  },
  {
   "cell_type": "code",
   "execution_count": 97,
   "metadata": {},
   "outputs": [
    {
     "name": "stdout",
     "output_type": "stream",
     "text": [
      "W: 0.907554, p-value 0.000003\n"
     ]
    }
   ],
   "source": [
    "print(\"W: %f, p-value %f\" % stats.shapiro(stats.poisson.rvs(2, size=100)))"
   ]
  },
  {
   "cell_type": "code",
   "execution_count": 98,
   "metadata": {},
   "outputs": [
    {
     "name": "stdout",
     "output_type": "stream",
     "text": [
      "W: 0.987789, p-value 0.492775\n"
     ]
    }
   ],
   "source": [
    "print(\"W: %f, p-value %f\" % stats.shapiro(u21))"
   ]
  },
  {
   "cell_type": "code",
   "execution_count": 99,
   "metadata": {},
   "outputs": [
    {
     "name": "stdout",
     "output_type": "stream",
     "text": [
      "W: 0.989235, p-value 0.603114\n"
     ]
    }
   ],
   "source": [
    "print(\"W: %f, p-value %f\" % stats.shapiro(u31))"
   ]
  },
  {
   "cell_type": "code",
   "execution_count": 35,
   "metadata": {},
   "outputs": [
    {
     "data": {
      "text/plain": [
       "array([-1.64529314, -0.1245538 , -0.67788854,  0.71892619, -1.18377182,\n",
       "       -1.97464477,  0.98285968, -0.19005422, -0.19481907, -1.27277402,\n",
       "        0.86002894, -0.03346119, -0.71481995,  0.60730133,  0.68570805,\n",
       "        1.55221733,  1.56483679,  1.99267305,  0.50569467,  0.15847004,\n",
       "       -0.55426746,  1.08009402, -0.1293746 , -0.58162648,  0.93130711,\n",
       "       -0.32074158,  0.59352127, -0.12289353, -1.36976837, -0.15546859,\n",
       "       -0.33974021, -0.48608425,  0.18857902,  0.91430585, -0.92582791,\n",
       "        0.54850565,  0.88942218, -1.0765735 ,  1.94457889,  0.69975072,\n",
       "        1.08156548,  1.65288433,  0.59533414, -0.54554993,  0.91319958,\n",
       "       -2.6244655 , -0.21140331,  0.5848205 , -1.68546115, -1.62261312,\n",
       "       -1.62254691, -1.62757879,  0.1101596 , -1.71431906,  0.82106783,\n",
       "       -0.82504246, -1.36591631,  0.07850936,  2.25296397, -1.52074525,\n",
       "        1.50646471, -1.4398544 ,  0.54542416, -0.15772206, -0.22631713,\n",
       "       -1.53561462,  2.09756396,  0.60954918,  0.8700856 ,  0.24043118,\n",
       "       -1.0485286 , -0.80204014, -2.25857271, -3.20143911,  0.64671182,\n",
       "        1.08590148, -0.0716674 , -0.3945701 ,  0.4388204 , -0.69497518,\n",
       "        0.24457321, -0.66166955,  1.30256428, -0.079137  ,  0.56687146,\n",
       "        1.54459865,  0.08067839,  0.28270263, -1.72413784,  0.09176442,\n",
       "        1.27492562, -1.11309566,  0.30515451, -2.01488211, -0.69463688,\n",
       "        0.20124351,  0.16133021, -2.28878623,  0.85439596,  0.18203553])"
      ]
     },
     "execution_count": 35,
     "metadata": {},
     "output_type": "execute_result"
    }
   ],
   "source": [
    "stats.norm.rvs(size=100)"
   ]
  },
  {
   "cell_type": "code",
   "execution_count": 44,
   "metadata": {},
   "outputs": [
    {
     "data": {
      "text/plain": [
       "KstestResult(statistic=0.079275757756726795, pvalue=0.54029960924646581)"
      ]
     },
     "execution_count": 44,
     "metadata": {},
     "output_type": "execute_result"
    }
   ],
   "source": [
    "stats.kstest((u31-u31.mean())/u31.std(ddof=1), 'norm')"
   ]
  }
 ],
 "metadata": {
  "kernelspec": {
   "display_name": "Python 3",
   "language": "python",
   "name": "python3"
  },
  "language_info": {
   "codemirror_mode": {
    "name": "ipython",
    "version": 3
   },
   "file_extension": ".py",
   "mimetype": "text/x-python",
   "name": "python",
   "nbconvert_exporter": "python",
   "pygments_lexer": "ipython3",
   "version": "3.6.1"
  }
 },
 "nbformat": 4,
 "nbformat_minor": 2
}
